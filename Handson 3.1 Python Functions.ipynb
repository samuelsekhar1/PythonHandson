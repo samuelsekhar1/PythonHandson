{
 "cells": [
  {
   "cell_type": "raw",
   "id": "47da17e7-03db-4b0e-9302-652510c9d5e3",
   "metadata": {},
   "source": [
    "Q1. Which keyword is used to create a function? Create a function to return a list of odd numbers in the\n",
    "range of 1 to 25."
   ]
  },
  {
   "cell_type": "raw",
   "id": "66ac5f18-ab8a-402b-a85f-e227836e7418",
   "metadata": {},
   "source": [
    "def keyword is used to define a function, it is placed before a function name that is provided by the user to create a user-defined function."
   ]
  },
  {
   "cell_type": "code",
   "execution_count": 5,
   "id": "e343852c-b6f0-445f-938d-291bdbb1383b",
   "metadata": {},
   "outputs": [],
   "source": [
    "def oddnumbr():\n",
    "    n=[]\n",
    "    for i in range (1,26):\n",
    "        if i%2!=0 :\n",
    "            n.append(i)\n",
    "    return n"
   ]
  },
  {
   "cell_type": "code",
   "execution_count": 6,
   "id": "f40f1333-15ad-4581-93b8-f23c4eeddc81",
   "metadata": {},
   "outputs": [
    {
     "data": {
      "text/plain": [
       "[1, 3, 5, 7, 9, 11, 13, 15, 17, 19, 21, 23, 25]"
      ]
     },
     "execution_count": 6,
     "metadata": {},
     "output_type": "execute_result"
    }
   ],
   "source": [
    "oddnumbr()"
   ]
  },
  {
   "cell_type": "raw",
   "id": "bc7baf40-e621-4628-9951-11f377d16acd",
   "metadata": {},
   "source": [
    "Q2. Why *args and **kwargs is used in some functions? Create a function each for *args and **kwargs to\n",
    "demonstrate their use."
   ]
  },
  {
   "cell_type": "raw",
   "id": "f3641a11-ccc9-4b6b-8587-19fe31b3b267",
   "metadata": {},
   "source": [
    "*args allows us to pass a variable number of non-keyword arguments to a Python function."
   ]
  },
  {
   "cell_type": "code",
   "execution_count": 4,
   "id": "06dd48ae-0f09-4367-b891-ad11caebb245",
   "metadata": {},
   "outputs": [],
   "source": [
    "#Example\n",
    "def t1(*args):\n",
    "    return args"
   ]
  },
  {
   "cell_type": "code",
   "execution_count": 13,
   "id": "1325e92b-3051-429e-b788-5c16b6b00c88",
   "metadata": {},
   "outputs": [
    {
     "data": {
      "text/plain": [
       "(1, 2, 'SAM', (1, 2, 3, 4))"
      ]
     },
     "execution_count": 13,
     "metadata": {},
     "output_type": "execute_result"
    }
   ],
   "source": [
    "t1(1,2,\"SAM\",(1,2,3,4))\n",
    "#Note: *args it does not return dictionary data type.It will throw an error"
   ]
  },
  {
   "cell_type": "raw",
   "id": "16348557-bdc0-420c-b1f7-87eac2182887",
   "metadata": {},
   "source": [
    "**kwargs allows us to pass a variable number of keyword arguments to a Python function"
   ]
  },
  {
   "cell_type": "code",
   "execution_count": 17,
   "id": "32ec1eeb-54f4-4a43-a94e-a250db2bdaba",
   "metadata": {},
   "outputs": [],
   "source": [
    "#Example\n",
    "def t2(**kwargs):\n",
    "    return kwargs"
   ]
  },
  {
   "cell_type": "code",
   "execution_count": 21,
   "id": "e5089fe0-4e14-4bd2-872b-c31a8b04405a",
   "metadata": {},
   "outputs": [
    {
     "data": {
      "text/plain": [
       "{'a': 11, 'b': 2, 'c': 81}"
      ]
     },
     "execution_count": 21,
     "metadata": {},
     "output_type": "execute_result"
    }
   ],
   "source": [
    "t2(a=11,b=2,c=81)\n",
    "#Note: *kwargs returns only dictionary data type."
   ]
  },
  {
   "cell_type": "raw",
   "id": "f26a3898-5d5d-48b5-8745-c7c04aadc151",
   "metadata": {},
   "source": [
    "Q3. What is an iterator in python? Name the method used to initialise the iterator object and the method\n",
    "used for iteration. Use these methods to print the first five elements of the given list [2, 4, 6, 8, 10, 12, 14, 16,\n",
    "18, 20]."
   ]
  },
  {
   "cell_type": "raw",
   "id": "ac18de62-b5a6-4692-9adc-696327ae03fc",
   "metadata": {},
   "source": [
    "An iterator in Python is an object that is used to iterate over iterable objects like lists, tuples, dicts, and sets.\n",
    " iter() method is called for the initialization of an iterator. This returns an iterator object\n",
    " next() method returns the next value for the iterable. Returns the next item in the sequence "
   ]
  },
  {
   "cell_type": "code",
   "execution_count": 28,
   "id": "0c60a5e3-1548-4e00-8a14-60174ae5fab8",
   "metadata": {},
   "outputs": [
    {
     "name": "stdout",
     "output_type": "stream",
     "text": [
      "Manually  element at index o  is: 2\n",
      "Using for loop Element at index 1 is: 4\n",
      "Using for loop Element at index 2 is: 6\n",
      "Using for loop Element at index 3 is: 8\n",
      "Using for loop Element at index 4 is: 10\n"
     ]
    }
   ],
   "source": [
    "# define a list\n",
    "my_list =[2, 4, 6, 8, 10, 12, 14, 16,18, 20]\n",
    "\n",
    "# create an iterator from the list\n",
    "iterator1 = iter(my_list)\n",
    "print(\"Manually  element at index o  is:\",next(iterator1))#print 1st element 2\n",
    "for i in range(4): #for printing the next 4 elements\n",
    "        print(\"Using for loop Element at index %i is:\"%(i+1),next(iterator1))"
   ]
  },
  {
   "cell_type": "raw",
   "id": "c07c6cf4-cf82-477f-abea-d9b741aa3b3a",
   "metadata": {},
   "source": [
    "Q4. What is a generator function in python? Why yield keyword is used? Give an example of a generator\n",
    "function."
   ]
  },
  {
   "cell_type": "raw",
   "id": "b5de3843-636b-4f46-aa3c-dfec428915e3",
   "metadata": {},
   "source": [
    "Generator functions are functions which returns generator object through which we can iterate over values.\n",
    "It is useful when we we want to produce a large sequence of values, but we dont want to store all of them in memory at once.\n",
    "Because storing all of them at once in memory will take a lot of processing time.\n",
    "Iterating it gives us one value at a time\n",
    "Yield returns a value and pauses the execution while maintaining the internal states."
   ]
  },
  {
   "cell_type": "code",
   "execution_count": 1,
   "id": "8fd8c0a7-bf27-4411-b2ed-fecb10df11cc",
   "metadata": {},
   "outputs": [
    {
     "name": "stdout",
     "output_type": "stream",
     "text": [
      "<class 'generator'>\n",
      "<generator object fibo at 0x7fc40c8cd850>\n",
      "[0, 1, 1, 2, 3, 5, 8, 13, 21, 34]\n"
     ]
    }
   ],
   "source": [
    "#fibonacci series using generator function\n",
    "def fibo(n):\n",
    "    a,b=0,1\n",
    "    for i in range(n):\n",
    "        yield a\n",
    "        a,b = b,a+b\n",
    "\n",
    "#checking type\n",
    "print(type(fibo(1)))\n",
    "#using list data type to access object\n",
    "print(list(fibo(10)))"
   ]
  },
  {
   "cell_type": "raw",
   "id": "037d225a-5b13-4868-ac39-4ddee0a3cd6e",
   "metadata": {},
   "source": [
    "Q5. Create a generator function for prime numbers less than 1000. Use the next() method to print the\n",
    "first 20 prime numbers."
   ]
  },
  {
   "cell_type": "code",
   "execution_count": 1,
   "id": "d9c5f512-22e6-4ee5-b154-fa6930713beb",
   "metadata": {},
   "outputs": [],
   "source": [
    "max_no = 1000\n",
    "\n",
    "# Function to check if number is prime number or not\n",
    "def is_prime(num):\n",
    "    if num <= 1:\n",
    "        return False\n",
    "    if num == 2:\n",
    "        return True\n",
    "    for i in range(2,num):\n",
    "        if num % i == 0:\n",
    "            return False\n",
    "    return True    \n",
    "\n",
    "# Generator Function \n",
    "def prime_num(max_num):\n",
    "    for i in range(max_num):\n",
    "        if is_prime(i):\n",
    "            yield i"
   ]
  },
  {
   "cell_type": "code",
   "execution_count": 2,
   "id": "8d922052-6fa3-4b4c-bb59-751fc5bc4cd3",
   "metadata": {},
   "outputs": [],
   "source": [
    "prime_gen=prime_num(1000)"
   ]
  },
  {
   "cell_type": "code",
   "execution_count": 3,
   "id": "c46711e7-d67b-456a-bb5a-d10886afa9dc",
   "metadata": {},
   "outputs": [
    {
     "data": {
      "text/plain": [
       "generator"
      ]
     },
     "execution_count": 3,
     "metadata": {},
     "output_type": "execute_result"
    }
   ],
   "source": [
    "type(prime_gen)"
   ]
  },
  {
   "cell_type": "code",
   "execution_count": 4,
   "id": "d73d7d23-1cf4-4357-820f-6fd17b09c3e4",
   "metadata": {},
   "outputs": [
    {
     "name": "stdout",
     "output_type": "stream",
     "text": [
      "2\n",
      "3\n",
      "5\n",
      "7\n",
      "11\n",
      "13\n",
      "17\n",
      "19\n",
      "23\n",
      "29\n",
      "31\n",
      "37\n",
      "41\n",
      "43\n",
      "47\n",
      "53\n",
      "59\n",
      "61\n",
      "67\n",
      "71\n"
     ]
    }
   ],
   "source": [
    "for i in range(20):\n",
    "    print(next(prime_gen))"
   ]
  },
  {
   "cell_type": "code",
   "execution_count": null,
   "id": "33d20339-dc3a-4fe2-b88e-b10253318e93",
   "metadata": {},
   "outputs": [],
   "source": []
  }
 ],
 "metadata": {
  "kernelspec": {
   "display_name": "Python 3 (ipykernel)",
   "language": "python",
   "name": "python3"
  },
  "language_info": {
   "codemirror_mode": {
    "name": "ipython",
    "version": 3
   },
   "file_extension": ".py",
   "mimetype": "text/x-python",
   "name": "python",
   "nbconvert_exporter": "python",
   "pygments_lexer": "ipython3",
   "version": "3.10.8"
  }
 },
 "nbformat": 4,
 "nbformat_minor": 5
}
