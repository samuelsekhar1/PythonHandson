{
 "cells": [
  {
   "cell_type": "raw",
   "id": "6b1407a4-b406-43ec-9b26-4d3083b5a940",
   "metadata": {},
   "source": [
    "Q1. Create one variable containing following type of data:\n",
    "(i) string\n",
    "(ii) list\n",
    "(iii) float\n",
    "(iv) tuple"
   ]
  },
  {
   "cell_type": "code",
   "execution_count": 11,
   "id": "a2e4b5b1-5250-4ddc-8ca8-42bebdc5d29f",
   "metadata": {},
   "outputs": [
    {
     "name": "stdout",
     "output_type": "stream",
     "text": [
      "<class 'str'>\n",
      "<class 'list'>\n",
      "<class 'float'>\n",
      "<class 'tuple'>\n"
     ]
    }
   ],
   "source": [
    "s=\"Samuel\"\n",
    "print(type(s))\n",
    "l1=[\"sam\",\"mohan\",20]\n",
    "print(type(l1))\n",
    "f=1.23\n",
    "print(type(f))\n",
    "t=(20,\"sam\",2+3j)\n",
    "print(type(t))"
   ]
  },
  {
   "cell_type": "raw",
   "id": "ec153c26-1fe4-47c7-aee3-63aeabd53cf4",
   "metadata": {},
   "source": [
    "Q2. Given are some following variables containing data:\n",
    "(i) var1 = ‘ ‘\n",
    "(ii) var2 = ‘[ DS , ML , Python]’\n",
    "(iii) var3 = [ ‘DS’ , ’ML’ , ‘Python’ ]\n",
    "(iv) var4 = 1."
   ]
  },
  {
   "cell_type": "code",
   "execution_count": 15,
   "id": "065893a6-6335-438f-9d34-bd646195ae35",
   "metadata": {},
   "outputs": [
    {
     "name": "stdout",
     "output_type": "stream",
     "text": [
      "<class 'str'>\n",
      "<class 'str'>\n",
      "<class 'list'>\n",
      "<class 'int'>\n"
     ]
    }
   ],
   "source": [
    "var1 = ' '\n",
    "print(type(var1))\n",
    "var2 = '[ DS , ML , Python]'\n",
    "print(type(var2))\n",
    "var3 = [ 'DS' , 'ML' , 'Python']\n",
    "print(type(var3))\n",
    "var4 = 1\n",
    "print(type(var4))"
   ]
  },
  {
   "cell_type": "raw",
   "id": "217cf25c-61c8-4956-bc91-a03b96f7716e",
   "metadata": {},
   "source": [
    "Q3. Explain the use of the following operators using an example:\n",
    "(i) /\n",
    "(ii) %\n",
    "(iii) //\n",
    "(iv) **"
   ]
  },
  {
   "cell_type": "code",
   "execution_count": 17,
   "id": "21d86fba-e5b6-4658-844e-3f0000c90efc",
   "metadata": {},
   "outputs": [
    {
     "name": "stdout",
     "output_type": "stream",
     "text": [
      "17.5\n",
      "1\n",
      "17\n",
      "8\n"
     ]
    }
   ],
   "source": [
    "# / is the division operator\n",
    "a=35 / 2\n",
    "print(a)\n",
    "# % is the modulus operator tell us the remainder of the division\n",
    "b=35 % 2\n",
    "print(b)\n",
    "# // is the floor division returns the floor value after division\n",
    "c=35 // 2\n",
    "print(c)\n",
    "# ** is the power operator \n",
    "d=2 **3\n",
    "print(d)\n"
   ]
  },
  {
   "cell_type": "raw",
   "id": "3581212c-dac0-4197-a2c9-5c9f90b21fe3",
   "metadata": {},
   "source": [
    "Q4. Create a list of length 10 of your choice containing multiple types of data. Using for loop print the\n",
    "element and its data type."
   ]
  },
  {
   "cell_type": "code",
   "execution_count": 1,
   "id": "06a06db2-5346-4621-8d0d-0688abdefe6b",
   "metadata": {},
   "outputs": [
    {
     "name": "stdout",
     "output_type": "stream",
     "text": [
      "Element 100 Data type <class 'int'>\n",
      "Element 20 Data type <class 'int'>\n",
      "Element Sam Data type <class 'str'>\n",
      "Element 30.8 Data type <class 'float'>\n",
      "Element (2+3j) Data type <class 'complex'>\n"
     ]
    }
   ],
   "source": [
    "s=[100,20,\"Sam\",30.8,2+3j]\n",
    "for i in s:\n",
    "    print(\"Element\",i,\"Data type\",type(i))"
   ]
  },
  {
   "cell_type": "raw",
   "id": "5415a62d-be39-48ae-94e8-3565374b4a4d",
   "metadata": {},
   "source": [
    "Q5. Using a while loop, verify if the number A is purely divisible by number B and if so then how many\n",
    "times it can be divisible."
   ]
  },
  {
   "cell_type": "code",
   "execution_count": 8,
   "id": "c17c95b3-9433-444d-8d82-8005577954b0",
   "metadata": {},
   "outputs": [
    {
     "name": "stdout",
     "output_type": "stream",
     "text": [
      "50  is purely divisible by  2  and is divisible  25  times\n"
     ]
    }
   ],
   "source": [
    "a=50\n",
    "b=2\n",
    "while a%b==0 :\n",
    "    print(a,\" is purely divisible by \" , b ,\" and is divisible \" ,int((a/b)), \" times\")\n",
    "    break \n",
    "else:\n",
    "    print(a ,\"is not purely divisible by \" ,b)"
   ]
  },
  {
   "cell_type": "raw",
   "id": "c2a93dcb-3ef7-473e-b61d-8e9edd907485",
   "metadata": {},
   "source": [
    "Q6. Create a list containing 25 int type data. Using for loop and if-else condition print if the element is\n",
    "divisible by 3 or not."
   ]
  },
  {
   "cell_type": "code",
   "execution_count": 1,
   "id": "e1b3dc80-71f9-4fb0-a9db-dd19e0daf116",
   "metadata": {},
   "outputs": [
    {
     "name": "stdout",
     "output_type": "stream",
     "text": [
      "1 is not divisible by 3\n",
      "2 is not divisible by 3\n",
      "3 is divisible ny 3\n",
      "4 is not divisible by 3\n",
      "5 is not divisible by 3\n",
      "6 is divisible ny 3\n",
      "7 is not divisible by 3\n",
      "8 is not divisible by 3\n",
      "9 is divisible ny 3\n",
      "10 is not divisible by 3\n",
      "11 is not divisible by 3\n",
      "12 is divisible ny 3\n",
      "13 is not divisible by 3\n",
      "14 is not divisible by 3\n",
      "15 is divisible ny 3\n",
      "16 is not divisible by 3\n",
      "17 is not divisible by 3\n",
      "18 is divisible ny 3\n",
      "19 is not divisible by 3\n",
      "20 is not divisible by 3\n",
      "21 is divisible ny 3\n",
      "22 is not divisible by 3\n",
      "23 is not divisible by 3\n",
      "24 is divisible ny 3\n"
     ]
    }
   ],
   "source": [
    "for i in range(1,25,1):\n",
    "    if(i%3==0):\n",
    "        print(i,\"is divisible ny 3\")\n",
    "    else:\n",
    "        print(i,\"is not divisible by 3\")"
   ]
  },
  {
   "cell_type": "raw",
   "id": "3ccc1750-47d7-40d8-a927-0ab5e958516e",
   "metadata": {},
   "source": [
    "Q7. What do you understand about mutable and immutable data types? Give examples for both showing\n",
    "this property."
   ]
  },
  {
   "cell_type": "raw",
   "id": "56b36b83-8b81-47e3-9da9-6f847792cd1b",
   "metadata": {},
   "source": [
    "Mutable Data Type – A mutable data type is those whose values can be changed.\n",
    "Example: List\n",
    "Immutable Data Type – An immutable data type is one in which the values can't be changed or altered\n",
    "Example: String"
   ]
  },
  {
   "cell_type": "code",
   "execution_count": 2,
   "id": "b1ff91a9-56b7-48e5-91ca-151bdb61939d",
   "metadata": {},
   "outputs": [
    {
     "name": "stdout",
     "output_type": "stream",
     "text": [
      "[10, 20, 'Sam', 'Sekhar']\n"
     ]
    }
   ],
   "source": [
    "#Example for Mutable Data type: List\n",
    "l1=[10,20,\"Sam\"]\n",
    "#inserting new item in the list\n",
    "l1.append(\"Sekhar\")\n",
    "print(l1)\n",
    "#Example for Immutable Data type: String\n",
    "S=\"Hello\"\n",
    "S"
   ]
  },
  {
   "cell_type": "code",
   "execution_count": null,
   "id": "e87f6ef6-744d-4f8d-b876-a71cc87f20a1",
   "metadata": {},
   "outputs": [],
   "source": []
  },
  {
   "cell_type": "code",
   "execution_count": null,
   "id": "8aa4e01e-975e-4b19-ab92-9f80b9721be4",
   "metadata": {},
   "outputs": [],
   "source": []
  },
  {
   "cell_type": "code",
   "execution_count": null,
   "id": "6e0fc7f3-54c7-495a-b1b0-3899890b8912",
   "metadata": {},
   "outputs": [],
   "source": []
  },
  {
   "cell_type": "code",
   "execution_count": null,
   "id": "2bf55250-646c-4218-92e8-5dc5ee97dfc4",
   "metadata": {},
   "outputs": [],
   "source": []
  },
  {
   "cell_type": "code",
   "execution_count": null,
   "id": "df323df6-4dfa-469d-8123-d04e070c56b6",
   "metadata": {},
   "outputs": [],
   "source": []
  },
  {
   "cell_type": "code",
   "execution_count": null,
   "id": "c116ecc5-1124-4052-897e-41237c172dd3",
   "metadata": {},
   "outputs": [],
   "source": []
  },
  {
   "cell_type": "code",
   "execution_count": null,
   "id": "9cdf5a2c-acaf-45c7-a9c5-ae242425e116",
   "metadata": {},
   "outputs": [],
   "source": []
  }
 ],
 "metadata": {
  "kernelspec": {
   "display_name": "Python 3 (ipykernel)",
   "language": "python",
   "name": "python3"
  },
  "language_info": {
   "codemirror_mode": {
    "name": "ipython",
    "version": 3
   },
   "file_extension": ".py",
   "mimetype": "text/x-python",
   "name": "python",
   "nbconvert_exporter": "python",
   "pygments_lexer": "ipython3",
   "version": "3.10.8"
  }
 },
 "nbformat": 4,
 "nbformat_minor": 5
}
