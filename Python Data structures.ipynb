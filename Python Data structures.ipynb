{
 "cells": [
  {
   "cell_type": "raw",
   "id": "952d240e-5aee-4837-9d93-14388e554e06",
   "metadata": {},
   "source": [
    "Q1. How do you comment code in Python? What are the different types of comments?"
   ]
  },
  {
   "cell_type": "raw",
   "id": "0fa3e082-1710-423d-a129-3cb1b6592d04",
   "metadata": {},
   "source": [
    "There are three types of comments in python : \n",
    "\n",
    "1.Single Line:\n",
    "A single-line comment starts and ends in the same line. We use the # symbol to write a single-line comment\n",
    "2.Multi Line:\n",
    "Multi line comments can be implemented using symbol ' or \"\n"
   ]
  },
  {
   "cell_type": "code",
   "execution_count": 6,
   "id": "7faf6648-72d1-4256-a4f1-1ac7f188b1d7",
   "metadata": {},
   "outputs": [],
   "source": [
    "#Single line Comment\n",
    "'''\n",
    "This is a\n",
    "multiline\n",
    "comment\n",
    "'''"
   ]
  },
  {
   "cell_type": "raw",
   "id": "a71cabd1-0a10-49b6-a2fc-e7a832529ff1",
   "metadata": {},
   "source": [
    "Q2. What are variables in Python? How do you declare and assign values to variables?"
   ]
  },
  {
   "cell_type": "raw",
   "id": "278190de-a658-4f7f-b715-5c4562c9ce0e",
   "metadata": {},
   "source": [
    "Variables are containers for storing data values.A Variables in Python is only a name given to a memory location, all the operations done on the variable effects that memory location.\n",
    "In python we dont need to declare a variable with specific data type once we assign a value to the variable python automatically declares data type of the value based on the input value"
   ]
  },
  {
   "cell_type": "code",
   "execution_count": 7,
   "id": "dcbb194d-61b1-4790-8717-f2231c7dc11a",
   "metadata": {},
   "outputs": [
    {
     "name": "stdout",
     "output_type": "stream",
     "text": [
      "100 <class 'int'>\n",
      "3.45 <class 'float'>\n",
      "SAM <class 'str'>\n",
      "(4+5j) <class 'complex'>\n",
      "False <class 'bool'>\n",
      "[1, 2, 3, 'sam'] <class 'list'>\n",
      "(4, 5, 6, 'sekhar') <class 'tuple'>\n",
      "{1, 2, 3, 4, 5, 6, 7} <class 'set'>\n",
      "{1: 'z', 2: 'y'} <class 'dict'>\n"
     ]
    }
   ],
   "source": [
    "a=100\n",
    "b=3.45\n",
    "c=\"SAM\"\n",
    "d=4+5j\n",
    "e=False\n",
    "f=[1,2,3,\"sam\"]\n",
    "g=(4,5,6,\"sekhar\")\n",
    "h={1,2,3,4,5,6,7}\n",
    "i={1:'z',2:'y'}\n",
    "\n",
    "print(a,type(a))\n",
    "print(b,type(b))\n",
    "print(c,type(c))\n",
    "print(d,type(d))\n",
    "print(e,type(e))\n",
    "print(f,type(f))\n",
    "print(g,type(g))\n",
    "print(h,type(h))\n",
    "print(i,type(i))"
   ]
  },
  {
   "cell_type": "raw",
   "id": "58e27707-ea96-4d23-bff7-1c5e22fa1e97",
   "metadata": {},
   "source": [
    "Q3. How do you convert one data type to another in Python?"
   ]
  },
  {
   "cell_type": "raw",
   "id": "f20cbfc7-87e7-4697-859a-4e21b4fa16e3",
   "metadata": {},
   "source": [
    "Type casting: Converting one data type to another data type is called Type casting in Python.\n",
    "Types of Type casting:\n",
    "1.Implicit Typecasting : Automatic conversion by the compilier (takes place during compilation / runtime) \n",
    "2.Explicit Typecasting : User defined type conversion"
   ]
  },
  {
   "cell_type": "code",
   "execution_count": 12,
   "id": "7eeca932-e69f-4ad4-ad4a-c516732599d4",
   "metadata": {},
   "outputs": [
    {
     "name": "stdout",
     "output_type": "stream",
     "text": [
      "Data Type of 10 is <class 'int'>\n",
      "Data Type of 1.2 is <class 'float'>\n",
      "Data Type of 8.8 is <class 'float'>\n"
     ]
    }
   ],
   "source": [
    "# Example for Implicit Type casting\n",
    "a=10\n",
    "b=1.2\n",
    "c= a-b\n",
    "print(f\"Data Type of {a} is\",type(a))\n",
    "print(f\"Data Type of {b} is\",type(b))\n",
    "print(f\"Data Type of {c} is\",type(c))"
   ]
  },
  {
   "cell_type": "code",
   "execution_count": 13,
   "id": "aeb7d7cc-2399-49cb-9f9f-19ebebc10e22",
   "metadata": {},
   "outputs": [
    {
     "name": "stdout",
     "output_type": "stream",
     "text": [
      "Data Type of 10.2 is <class 'float'>\n",
      "Data Type of 2 is <class 'int'>\n",
      "Data Type of 10 is <class 'int'>\n",
      "Data Type of 12 is <class 'int'>\n"
     ]
    }
   ],
   "source": [
    "#Example for Explicit Type casting\n",
    "d=10.2\n",
    "e=2\n",
    "f=int(d)\n",
    "g=e+f\n",
    "print(f\"Data Type of {d} is\",type(d))\n",
    "print(f\"Data Type of {e} is\",type(e))\n",
    "print(f\"Data Type of {f} is\",type(f))\n",
    "print(f\"Data Type of {g} is\",type(g))"
   ]
  },
  {
   "cell_type": "raw",
   "id": "e861cd49-519a-49cd-bc21-a95702237b4f",
   "metadata": {},
   "source": [
    "Q) How do you write and execute a Python script from the command line?"
   ]
  },
  {
   "cell_type": "raw",
   "id": "65249314-5a3f-438b-b533-900b67b1a481",
   "metadata": {},
   "source": [
    "Below are the steps to write and execute script from the command line:\n",
    "\n",
    "Step 1-> Open your python IDE and create a file of any name.For example file name is helloworld\n",
    "\n",
    "Step 2-> Write the code in the newly created file and save it.\n",
    "\n",
    "Step 3-> Open properties of the created file and copy the location of the file.\n",
    "\n",
    "Step 4-> Open command prompt and paste the location of the file and press enter\n",
    "\n",
    "Step 5-> Enter python helloworld.py and press enter.Python file will be executed."
   ]
  },
  {
   "cell_type": "raw",
   "id": "80b245b1-b5c5-4634-a948-85cc8d029127",
   "metadata": {},
   "source": [
    "Q) Given a list my_list = [1, 2, 3, 4, 5], write the code to slice the list and obtain the sub-list [2, 3]."
   ]
  },
  {
   "cell_type": "code",
   "execution_count": 17,
   "id": "37027027-3906-4cf4-a60a-0c5b822bcba4",
   "metadata": {},
   "outputs": [
    {
     "name": "stdout",
     "output_type": "stream",
     "text": [
      "List Before Slicing :  [1, 2, 3, 4, 5]\n",
      "List After Slicing :  [2, 3]\n"
     ]
    }
   ],
   "source": [
    "my_list = [1, 2, 3, 4, 5]\n",
    "new_list=my_list[1:3]\n",
    "print(\"List Before Slicing : \",my_list)\n",
    "print(\"List After Slicing : \",new_list)"
   ]
  },
  {
   "cell_type": "raw",
   "id": "62d91e10-1027-43cd-80eb-1d9a4bf2e0c0",
   "metadata": {},
   "source": [
    "What is a complex number in mathematics, and how is it represented in Python?"
   ]
  },
  {
   "cell_type": "raw",
   "id": "1bae993e-1144-4ad9-9747-7b60f846e03a",
   "metadata": {},
   "source": [
    "In Mathematics,Complex numbers are expressed in this form a + ib.\n",
    "where, a,b are real numbers and 'i' is an imaginary number called “iota”. The value of i = Squareroot(-1).\n",
    "a is called real value\n",
    "b is called Imaginary value"
   ]
  },
  {
   "cell_type": "code",
   "execution_count": 20,
   "id": "4a5d0d61-4c24-441a-afe7-3acf908a2363",
   "metadata": {},
   "outputs": [
    {
     "name": "stdout",
     "output_type": "stream",
     "text": [
      "The type of variable (4+5j) <class 'complex'>\n",
      "The real part of complex number is 4.0\n",
      "The imaginary part of complex number is 5.0\n"
     ]
    }
   ],
   "source": [
    "#complex number in pyton\n",
    "cmplx= 4+5j\n",
    "\n",
    "print (f\"The type of variable {cmplx}\",type(cmplx))\n",
    "print (\"The real part of complex number is\",cmplx.real)\n",
    "print (\"The imaginary part of complex number is\",cmplx.imag)"
   ]
  },
  {
   "cell_type": "raw",
   "id": "e9567625-2e65-4cfe-b549-3acca25f98e9",
   "metadata": {},
   "source": [
    "Q7. What is the correct way to declare a variable named age and assign the value 25 to it?"
   ]
  },
  {
   "cell_type": "raw",
   "id": "cd9fdcfd-8a3e-4cfd-8c01-7d75d2b202f7",
   "metadata": {},
   "source": [
    "Rules for declaring variables in python:\n",
    "1.Allowed characters in Python are\n",
    "    a)alphabet symbols(either lower case or upper case)\n",
    "    b)digits(0 to 9)\n",
    "    c)underscore symbol(_)\n",
    "2.Variable name should not start with digits\n",
    "3.Variables are case sensitive."
   ]
  },
  {
   "cell_type": "code",
   "execution_count": 1,
   "id": "53b97333-78aa-4c9e-89ea-f16711dab97c",
   "metadata": {},
   "outputs": [
    {
     "name": "stdout",
     "output_type": "stream",
     "text": [
      "25\n"
     ]
    }
   ],
   "source": [
    "age = 25\n",
    "print(age)"
   ]
  },
  {
   "cell_type": "raw",
   "id": "e70f27ce-9471-4dee-9740-478e372a8beb",
   "metadata": {},
   "source": [
    "Q8. Declare a variable named price and assign the value 9.99 to it. What data type does this variable\n",
    "belong to?"
   ]
  },
  {
   "cell_type": "code",
   "execution_count": 5,
   "id": "905bab1b-18c5-41d5-82b1-c07103f6dc01",
   "metadata": {},
   "outputs": [
    {
     "name": "stdout",
     "output_type": "stream",
     "text": [
      "Data Type of 9.99 is <class 'float'>\n"
     ]
    }
   ],
   "source": [
    "price =9.99\n",
    "print(f\"Data Type of {price} is\",type(price))"
   ]
  },
  {
   "cell_type": "raw",
   "id": "22c4d359-766d-4224-90ca-3d9772759c18",
   "metadata": {},
   "source": [
    "Q9. Create a variable named name and assign your full name to it as a string. How would you print the\n",
    "value of this variable?"
   ]
  },
  {
   "cell_type": "code",
   "execution_count": 6,
   "id": "10350410-aac6-4f04-8f50-29e969cf1994",
   "metadata": {},
   "outputs": [
    {
     "name": "stdout",
     "output_type": "stream",
     "text": [
      "Samuel Sekhar\n"
     ]
    },
    {
     "data": {
      "text/plain": [
       "'Samuel Sekhar'"
      ]
     },
     "execution_count": 6,
     "metadata": {},
     "output_type": "execute_result"
    }
   ],
   "source": [
    "name = \"Samuel Sekhar\"\n",
    "print(name) #using print function\n",
    "name #calling variable name"
   ]
  },
  {
   "cell_type": "raw",
   "id": "ac37944e-df7e-4a38-ad12-ee1b532927c7",
   "metadata": {},
   "source": [
    "Q10. Given the string \"Hello, World!\", extract the substring \"World\"."
   ]
  },
  {
   "cell_type": "code",
   "execution_count": 25,
   "id": "bb2548aa-cdad-4404-8086-88662e15d625",
   "metadata": {},
   "outputs": [
    {
     "name": "stdout",
     "output_type": "stream",
     "text": [
      "World\n",
      "World\n"
     ]
    }
   ],
   "source": [
    "s=\"Hello, World!\"\n",
    "#Method 1\n",
    "substrng=s[7:12]\n",
    "print(substrng)\n",
    "\n",
    "#Method 2\n",
    "substrng1=s[-6:-1]\n",
    "print(substrng1)"
   ]
  },
  {
   "cell_type": "code",
   "execution_count": null,
   "id": "4c24a18b-1b1d-414d-9b2e-57e4633aa03c",
   "metadata": {},
   "outputs": [],
   "source": [
    "Q11. Create a variable named \"is_student\" and assign it a boolean value indicating whether you are\n",
    "currently a student or not."
   ]
  },
  {
   "cell_type": "code",
   "execution_count": 26,
   "id": "67ba8f06-5ef2-4ed2-84c3-4521403dd11a",
   "metadata": {},
   "outputs": [
    {
     "data": {
      "text/plain": [
       "True"
      ]
     },
     "execution_count": 26,
     "metadata": {},
     "output_type": "execute_result"
    }
   ],
   "source": [
    "is_student = True\n",
    "is_student"
   ]
  },
  {
   "cell_type": "code",
   "execution_count": null,
   "id": "bbf95755-0d7c-4ce5-ae50-7636ea9cfc04",
   "metadata": {},
   "outputs": [],
   "source": []
  }
 ],
 "metadata": {
  "kernelspec": {
   "display_name": "Python 3 (ipykernel)",
   "language": "python",
   "name": "python3"
  },
  "language_info": {
   "codemirror_mode": {
    "name": "ipython",
    "version": 3
   },
   "file_extension": ".py",
   "mimetype": "text/x-python",
   "name": "python",
   "nbconvert_exporter": "python",
   "pygments_lexer": "ipython3",
   "version": "3.10.8"
  }
 },
 "nbformat": 4,
 "nbformat_minor": 5
}
